{
  "nbformat": 4,
  "nbformat_minor": 0,
  "metadata": {
    "colab": {
      "name": "NLTK.ipynb",
      "provenance": [],
      "collapsed_sections": [],
      "authorship_tag": "ABX9TyNcjfI5vz4wbZv0xvu2ubiC",
      "include_colab_link": true
    },
    "kernelspec": {
      "name": "python3",
      "display_name": "Python 3"
    },
    "language_info": {
      "name": "python"
    }
  },
  "cells": [
    {
      "cell_type": "markdown",
      "metadata": {
        "id": "view-in-github",
        "colab_type": "text"
      },
      "source": [
        "<a href=\"https://colab.research.google.com/github/tankien76/CS221.M11/blob/main/18521093_18521274.ipynb\" target=\"_parent\"><img src=\"https://colab.research.google.com/assets/colab-badge.svg\" alt=\"Open In Colab\"/></a>"
      ]
    },
    {
      "cell_type": "code",
      "metadata": {
        "colab": {
          "base_uri": "https://localhost:8080/"
        },
        "id": "hJAniDJBfqKG",
        "outputId": "6249488a-89bb-4e93-a4b0-8b745409c84f"
      },
      "source": [
        "import nltk\n",
        "nltk.download('stopwords')\n",
        "nltk.download('wordnet')\n",
        "nltk.download('punkt')\n",
        "nltk.download('averaged_perceptron_tagger') "
      ],
      "execution_count": null,
      "outputs": [
        {
          "output_type": "stream",
          "name": "stdout",
          "text": [
            "[nltk_data] Downloading package stopwords to /root/nltk_data...\n",
            "[nltk_data]   Unzipping corpora/stopwords.zip.\n",
            "[nltk_data] Downloading package wordnet to /root/nltk_data...\n",
            "[nltk_data]   Unzipping corpora/wordnet.zip.\n",
            "[nltk_data] Downloading package punkt to /root/nltk_data...\n",
            "[nltk_data]   Package punkt is already up-to-date!\n",
            "[nltk_data] Downloading package averaged_perceptron_tagger to\n",
            "[nltk_data]     /root/nltk_data...\n",
            "[nltk_data]   Unzipping taggers/averaged_perceptron_tagger.zip.\n"
          ]
        },
        {
          "output_type": "execute_result",
          "data": {
            "text/plain": [
              "True"
            ]
          },
          "metadata": {},
          "execution_count": 9
        }
      ]
    },
    {
      "cell_type": "code",
      "metadata": {
        "id": "IUfwCtipvkR_"
      },
      "source": [
        "def check(sentence):\n",
        "  results = []\n",
        "  for i in sentence:\n",
        "    if(i[1] == 'NN'):\n",
        "      i[1] = 'N'\n",
        "      i.append('SG')\n",
        "      results.append(i)\n",
        "    elif(i[1] == 'NNS'):\n",
        "      i[1] = 'N'\n",
        "      i.append('PL')\n",
        "      results.append(i)\n",
        "    elif(i[1] == 'VB'):\n",
        "      i[1] = 'VB'\n",
        "      i.append('B')\n",
        "      results.append(i)\n",
        "    elif(i[1] == 'VBD'):\n",
        "      i[1] = 'VB'\n",
        "      i.append('D')\n",
        "      results.append(i)\n",
        "    elif(i[1] == 'VBG'):\n",
        "      i[1] = 'VB'\n",
        "      i.append('G')\n",
        "      results.append(i)\n",
        "    elif(i[1] == 'VBN'):\n",
        "      i[1] = 'VB'\n",
        "      i.append('N')\n",
        "      results.append(i)\n",
        "    elif(i[1] == 'VBP'):\n",
        "      i[1] = 'VB'\n",
        "      i.append('P')\n",
        "      results.append(i)\n",
        "    elif(i[1] == 'VBZ'):\n",
        "      i[1] = 'VB'\n",
        "      i.append('Z')\n",
        "      results.append(i)\n",
        "  return results\n",
        "\n"
      ],
      "execution_count": null,
      "outputs": []
    },
    {
      "cell_type": "markdown",
      "metadata": {
        "id": "zappLM-hVlK6"
      },
      "source": [
        "Nguồn tham khảo: https://ichi.pro/vi/xu-ly-ngon-ngu-tu-nhien-bang-python-nltk-101258229749293"
      ]
    },
    {
      "cell_type": "code",
      "metadata": {
        "colab": {
          "base_uri": "https://localhost:8080/"
        },
        "id": "mDHRi83FetED",
        "outputId": "7f696b64-5ac9-4c06-b7fa-f2155173104a"
      },
      "source": [
        "from nltk.tokenize import word_tokenize\n",
        "from nltk.tag import pos_tag\n",
        "from nltk.stem import PorterStemmer\n",
        "\n",
        "porter = PorterStemmer()\n",
        "text = \"I miss my grandfather so much when I look back on my childhood.\"\n",
        "\n",
        "#text = text.lower()\n",
        "token = nltk.word_tokenize(text)\n",
        "postag = nltk.pos_tag(token)\n",
        "#print(token)\n",
        "#print(postag)\n",
        "\n",
        "listword  = []\n",
        "for i in postag:\n",
        "  if(i[1][0] == 'V' or i[1][0] == 'N'):\n",
        "    listword.append(list(i))\n",
        "print(listword)\n",
        "#print(len(listword))\n",
        "results = check(listword)\n",
        "for w in results:\n",
        "  if(w[2] != 'SG'):\n",
        "    w[0] = porter.stem(w[0])\n",
        "print(results)"
      ],
      "execution_count": null,
      "outputs": [
        {
          "output_type": "stream",
          "name": "stdout",
          "text": [
            "[['miss', 'VBP'], ['grandfather', 'NN'], ['look', 'VBP'], ['childhood', 'NN']]\n",
            "4\n",
            "[['miss', 'VB', 'P'], ['grandfather', 'N', 'SG'], ['look', 'VB', 'P'], ['childhood', 'N', 'SG']]\n"
          ]
        }
      ]
    }
  ]
}